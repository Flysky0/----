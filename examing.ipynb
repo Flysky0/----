{
 "cells": [
  {
   "cell_type": "markdown",
   "id": "18e53341",
   "metadata": {},
   "source": [
    "###  凭证符合"
   ]
  },
  {
   "cell_type": "code",
   "execution_count": null,
   "id": "2e175ced",
   "metadata": {},
   "outputs": [],
   "source": []
  },
  {
   "cell_type": "code",
   "execution_count": 52,
   "id": "998bb074",
   "metadata": {},
   "outputs": [],
   "source": [
    "# 显示记账凭证\n",
    "\n",
    "def display_rec(sn):\n",
    "    \"\"\"输入凭证号，显示凭证信息\"\"\"\n",
    "\n",
    "\n",
    "    pf_master = pd.read_excel(r'rec_master.xlsx',index_col=2)   \n",
    "    pd_details = pd.read_excel(r'rec_detail.xlsx',index_col=0)\n",
    "\n",
    "    \n",
    "    pf_master_sn = pf_master[pf_master.index==sn]\n",
    "    pd_details_sn = pd_details[pd_details.index==sn]\n",
    "    display_rec_sn = pd.merge(pf_master_sn,pd_details_sn,left_index=True, right_index=True)\n",
    "    print(display_rec_sn)\n",
    "    \n",
    "    return display_rec_sn"
   ]
  },
  {
   "cell_type": "code",
   "execution_count": 53,
   "id": "e4395552",
   "metadata": {},
   "outputs": [],
   "source": []
  },
  {
   "cell_type": "code",
   "execution_count": 54,
   "id": "e66520ba",
   "metadata": {
    "collapsed": true
   },
   "outputs": [
    {
     "name": "stdout",
     "output_type": "stream",
     "text": [
      "请输入要查询的凭证编码：1002\n",
      "            date  period  item_n      recording  examing  posting  item  \\\n",
      "sn                                                                        \n",
      "1002  2022-10-25      10       2  GL_accountant      NaN      NaN     1   \n",
      "1002  2022-10-25      10       2  GL_accountant      NaN      NaN     2   \n",
      "\n",
      "     describe     code DrCr  amount  \n",
      "sn                                   \n",
      "1002     生产领料  5001.01    借     150  \n",
      "1002     生产领料     1401    贷     150  \n"
     ]
    }
   ],
   "source": [
    "rec_sn  = int(input(\"请输入要查询的凭证编码：\"))\n",
    "\n",
    "#显示凭证\n",
    "display_rec(rec_sn)"
   ]
  },
  {
   "cell_type": "code",
   "execution_count": null,
   "id": "32424542",
   "metadata": {},
   "outputs": [],
   "source": [
    "import pandas as pd\n",
    "##审核凭证\n",
    "if __name__ = '__main__':\n",
    "    \n",
    "    tag='y'\n",
    "   \n",
    "    while tag=='y':\n",
    "    \n",
    "        while True:\n",
    "            rec_sn  = int(input(\"请输入要查询的凭证编码：\"))\n",
    "\n",
    "            #显示凭证\n",
    "            display_rec_sn = display_rec(rec_sn)\n",
    "\n",
    "            pf_master = pd.read_excel(r'rec_master.xlsx',index_col=None)\n",
    "\n",
    "            flag = input(\"审核结果：通过审核/y  审核失败/f  取消审核/n   下一个/e\").lower()\n",
    "\n",
    "\n",
    "            if flag = 'y':\n",
    "                #标注 examing = GL_examiner\n",
    "                pf_master.loc[pf_master['sn']==rec_sn,'examing'] = 'GL_examiner'\n",
    "\n",
    "            elif flag = 'f':\n",
    "\n",
    "                #标注 examing = failed\n",
    "                pf_master.loc[pf_master['sn']==rec_sn,'examing'] = 'Failed'\n",
    "            elif flag = 'n':\n",
    "                #取消审核标志\n",
    "                pf_master.loc[pf_master['sn']==rec_sn,'examing'] = None\n",
    "\n",
    "                #标注 examing = None \n",
    "            else:\n",
    "\n",
    "                break\n",
    "\n",
    "        with pd.ExcelWriter('rec_master.xlsx',engine=\"openpyxl\") as writer:  \n",
    "                pf_master_details.to_excel(writer, sheet_name='会计分录序时簿',index=False)  # 不写入索引\n",
    "    \n",
    "        tag = input(\"继续y/n\").lower()\n",
    " \n"
   ]
  }
 ],
 "metadata": {
  "kernelspec": {
   "display_name": "Python 3",
   "language": "python",
   "name": "python3"
  },
  "language_info": {
   "codemirror_mode": {
    "name": "ipython",
    "version": 3
   },
   "file_extension": ".py",
   "mimetype": "text/x-python",
   "name": "python",
   "nbconvert_exporter": "python",
   "pygments_lexer": "ipython3",
   "version": "3.8.8"
  }
 },
 "nbformat": 4,
 "nbformat_minor": 5
}
