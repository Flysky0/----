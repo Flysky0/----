{
 "cells": [
  {
   "cell_type": "code",
   "execution_count": 121,
   "id": "d5cf6d87",
   "metadata": {},
   "outputs": [
    {
     "data": {
      "text/plain": [
       "'C:\\\\Users\\\\liuji\\\\Desktop\\\\python参考文件'"
      ]
     },
     "execution_count": 121,
     "metadata": {},
     "output_type": "execute_result"
    }
   ],
   "source": [
    "import os\n",
    "os.getcwd() #查看当前的工作路径"
   ]
  },
  {
   "cell_type": "code",
   "execution_count": 122,
   "id": "3e0152f1",
   "metadata": {},
   "outputs": [],
   "source": [
    "#导入库\n",
    "import random\n",
    "import datetime\n",
    "import pandas as pd"
   ]
  },
  {
   "cell_type": "code",
   "execution_count": 123,
   "id": "84bca72d",
   "metadata": {},
   "outputs": [],
   "source": [
    "Iabd=33295625.26  #2020年银行存款期末余额 可看作公司现金流"
   ]
  },
  {
   "cell_type": "code",
   "execution_count": 232,
   "id": "dec91a0b",
   "metadata": {},
   "outputs": [],
   "source": [
    "class Bill():  #构建一个票据类\n",
    "    def __init__(self,\n",
    "                 matcode='',\n",
    "                 matsubcode = '',\n",
    "                 matitems='',\n",
    "                 matprice='',\n",
    "                 matunit='',\n",
    "                 matquantity=''):\n",
    "        \"\"\"基础科目主文件设置\"\"\"\n",
    "\n",
    "        self.matcode = matcode\n",
    "        self.matsubcode = matsubcode\n",
    "        self.matitems = matitems\n",
    "        self.matprice = matprice\n",
    "        self.matunit = matunit\n",
    "        self.matquantity= matquantity\n",
    "    \n",
    "    def build(self):\n",
    "\n",
    "        self.matcode = input(\"请输入原材料编码：\")\n",
    "        self.matsubcode = input(\"请输入详细编码：\")      \n",
    "        self.matitems = input(\"请输入原材料品质：\")\n",
    "        self.matprice = float(input(\"请输入原材料价格：\"))\n",
    "        self.matunit = input(\"请输入原材料单位：\") \n",
    "        self.matquantity = int(input(\"请输入原材料订购数量:\"))\n",
    "        \"\"\"静态方法，把会计科目类属性字典，写入Excel文件\"\"\"   #②静态方法\n",
    "        \n",
    "    def exportAllBill2Excel(self, VariableDict: dict, SheetName: str):\n",
    "        \"\"\"在读取Excel后（如果Excel文件不存在则创建），将传入的类变量附加到最后，再写回Excel\"\"\"\n",
    "        import openpyxl\n",
    "        # 指定Bill的Excel文件名\n",
    "        billXlsxFileName = \"bill.xlsx\"\n",
    "        # 判断Bill的Excel文件是否存在当前目录下\n",
    "        if not os.path.exists(billXlsxFileName):\n",
    "            # 建立空白Excel文件\n",
    "            wb = openpyxl.Workbook()\n",
    "            wb.create_sheet(SheetName)\n",
    "        # 判断Excel中工作表是否存在\n",
    "        else:\n",
    "            #读取EXCEL表\n",
    "            wb = openpyxl.load_workbook(billXlsxFileName)\n",
    "            if SheetName in wb.sheetnames:\n",
    "                # 工作表已经存在，跳过\n",
    "                pass\n",
    "            else:\n",
    "                # 新建工作表\n",
    "                wb.create_sheet(SheetName)\n",
    "        ws = wb[SheetName]\n",
    "        # 判断表头是否存在\n",
    "        \n",
    "        if ws.max_row < 2:\n",
    "            # 表头不存在，写入表头\n",
    "            ws.append(list(VariableDict.keys()))\n",
    "        # 写入数据\n",
    "        ws.append(list(VariableDict.values()))\n",
    "        #删除名为sheet的空表\n",
    "        if 'Sheet' in wb.sheetnames:\n",
    "            ws = wb['Sheet']\n",
    "            if ws.max_row < 2:\n",
    "                wb.remove(wb['Sheet'])\n",
    "        # 保存Excel文件\n",
    "        wb.save(billXlsxFileName)"
   ]
  },
  {
   "cell_type": "code",
   "execution_count": 233,
   "id": "6291c8a4",
   "metadata": {},
   "outputs": [],
   "source": [
    "class PRbill(Bill):  #定义子类PRbill  Bill是基类\n",
    "    \"\"\"请购单\"\"\"\n",
    "    def __init__(self,\n",
    "                 matcode='',\n",
    "                 matsubcode = '',\n",
    "                 matitems='',\n",
    "                 matprice='',\n",
    "                 matunit='',\n",
    "                 matquantity='',\n",
    "                 PRtime='',\n",
    "                 PRddl = '',\n",
    "                 PRnote=''):\n",
    "        \"\"\"基础科目主文件设置\"\"\"\n",
    "    \n",
    "        super().__init__(matcode,matsubcode,matitems,matprice,matunit,matquantity)\n",
    "        self.PRtime = PRtime\n",
    "        self.PRddl = PRddl\n",
    "        self.PRnote = PRnote\n",
    "        \n",
    "    def PRbuild(self):\n",
    "\n",
    "        self.PRtime = input(\"请输入材料需求部门制单时间：\")\n",
    "        self.PRddl = input(\"请输入材料需求部门要求到货时限：\")      \n",
    "        self.PRnote = input(\"请输入备注信息：\")\n",
    "        \"\"\"静态方法，把会计科目类属性字典，写入Excel文件\"\"\" \n",
    "    \n",
    "        self.exportAllBill2Excel(self.__dict__,\"PRbill\")  #①调用父类的静态方法  "
   ]
  },
  {
   "cell_type": "code",
   "execution_count": 234,
   "id": "f672d090",
   "metadata": {},
   "outputs": [],
   "source": [
    "class PObill(Bill):\n",
    "    \"\"\"订购单\"\"\"\n",
    "    \n",
    "    def __init__(self,\n",
    "                 matcode='',\n",
    "                 matsubcode = '',\n",
    "                 matitems='',\n",
    "                 matprice='',\n",
    "                 matunit='',\n",
    "                 matquantity='',\n",
    "                 POsupplier='',\n",
    "                 POplace='',\n",
    "                 POtel='',\n",
    "                 POconame='',\n",
    "                 POddl=''):\n",
    "        \"\"\"基础科目主文件设置\"\"\"\n",
    "        \n",
    "        super().__init__(matcode,matsubcode,matitems,matprice,matunit,matquantity)\n",
    "        self.POsupplier = POsupplier\n",
    "        self.POplace = POplace\n",
    "        self.POtel = POtel\n",
    "        self.POconame = POconame\n",
    "        self.POddl = POddl\n",
    "        \n",
    "    def PObuild(self):\n",
    "        self.POsupplier = input(\"请输入供应商名称：\")\n",
    "        self.POplace = input(\"请输入供应商地址：\")\n",
    "        self.POtel = input(\"请输入供应商电话：\")\n",
    "        self.POconame = input(\"请输入供应商联系人：\")\n",
    "        self.POddl = input(\"请输入交货日期：\")\n",
    "        \"\"\"静态方法，把会计科目类属性字典，写入Excel文件\"\"\"\n",
    "        \n",
    "        self.exportAllBill2Excel(self.__dict__,\"PObill\")  #①调用父类的静态方法"
   ]
  },
  {
   "cell_type": "code",
   "execution_count": 235,
   "id": "550b4281",
   "metadata": {},
   "outputs": [],
   "source": [
    "class DNbill(Bill):  #定义子类DNbill  Bill是基类\n",
    "    \"\"\"送货单\"\"\"\n",
    "        \n",
    "    def __init__(self,\n",
    "                 matcode='',\n",
    "                 matsubcode = '',\n",
    "                 matitems='',\n",
    "                 matprice='',\n",
    "                 matunit='',\n",
    "                 matquantity='',\n",
    "                 DNcn='',\n",
    "                 DNnote = '',\n",
    "                 DNdate='',\n",
    "                 DNmoney='',\n",
    "                 DNsender='',\n",
    "                 DNreceiver=''):\n",
    "        \"\"\"基础科目主文件设置\"\"\"\n",
    "        \n",
    "        super().__init__(matcode,matsubcode,matitems,matprice,matunit,matquantity)\n",
    "        self.DNcn = DNcn\n",
    "        self.DNnote = DNnote\n",
    "        self.DNdate = DNdate\n",
    "        self.DNmoney = DNmoney\n",
    "        self.DNsender = DNsender\n",
    "        self.DNreceiver = DNreceiver\n",
    "        \n",
    "    def DNbuild(self):\n",
    "\n",
    "        self.DNcn = input(\"请输入客户名称：\")\n",
    "        self.DNnote = input(\"请输入送货单号：\")\n",
    "        self.DNdate = input(\"请输入送货日期：\")\n",
    "        self.DNmoney = input(\"请输入送货金额：\")\n",
    "        self.DNsender = input(\"请输入送货人姓名：\")\n",
    "        self.DNreceiver = input(\"请输入签收人姓名：\")\n",
    "        \"\"\"静态方法，把会计科目类属性字典，写入Excel文件\"\"\" \n",
    "        \n",
    "        self.exportAllBill2Excel(self.__dict__,\"DNbill\")  #①调用父类的静态方法    "
   ]
  },
  {
   "cell_type": "code",
   "execution_count": 236,
   "id": "a948d9ef",
   "metadata": {},
   "outputs": [],
   "source": [
    "class PIbill(Bill):  #定义子类PIbill  Bill是基类\n",
    "    \"\"\"采购发票\"\"\"\n",
    "        \n",
    "    def __init__(self,\n",
    "                 matcode='',\n",
    "                 matsubcode = '',\n",
    "                 matitems='',\n",
    "                 matprice='',\n",
    "                 matunit='',\n",
    "                 matquantity='',\n",
    "                 PIsummary='',\n",
    "                 PIservice = '',\n",
    "                 PImoney='',\n",
    "                 PIrate='',\n",
    "                 PItax=''):\n",
    "        \"\"\"基础科目主文件设置\"\"\"\n",
    " \n",
    "        super().__init__(matcode,matsubcode,matitems,matprice,matunit,matquantity)\n",
    "        self.PIsummary = PIsummary\n",
    "        self.PIservice = PIservice\n",
    "        self.PImoney = PImoney\n",
    "        self.PIrate = PIrate\n",
    "        self.PItax = PItax\n",
    "        \n",
    "    def PIbuild(self):\n",
    "\n",
    "        self.PIsummary = input(\"请输入业务摘要：\")\n",
    "        self.PIservice = input(\"请输入服务名称：\")\n",
    "        self.PImoney = input(\"请输入金额：\")\n",
    "        self.PIrate = input(\"请输入税率：\")\n",
    "        self.PItax = input(\"请输入税额：\")\n",
    "        \"\"\"静态方法，把会计科目类属性字典，写入Excel文件\"\"\" \n",
    "       \n",
    "        self.exportAllBill2Excel(self.__dict__,\"PIbill\")  #①调用父类的静态方法 "
   ]
  },
  {
   "cell_type": "code",
   "execution_count": 237,
   "id": "3c95ec7b",
   "metadata": {},
   "outputs": [],
   "source": [
    "class ARbill(Bill):  #定义子类ARbill  Bill是基类\n",
    "    \"\"\"验收入库单\"\"\"\n",
    "        \n",
    "    def __init__(self,\n",
    "                 matcode='',\n",
    "                 matsubcode = '',\n",
    "                 matitems='',\n",
    "                 matprice='',\n",
    "                 matunit='',\n",
    "                 matquantity='',\n",
    "                 ARrecieved='',\n",
    "                 ARpaid= ''):\n",
    "        \"\"\"基础科目主文件设置\"\"\"\n",
    "\n",
    "        self.ARrecieved = ARrecieved\n",
    "        self.ARpaid = ARpaid\n",
    "        \n",
    "    def ARbuild(self):\n",
    "\n",
    "        self.ARrecieved = input(\"请输入实收数量：\")\n",
    "        self.ARpaid = input(\"请输入实际价格：\")\n",
    "        \"\"\"静态方法，把会计科目类属性字典，写入Excel文件\"\"\" \n",
    "        \n",
    "        self.exportAllBill2Excel(self.__dict__,\"ARbill\")  #①调用父类的静态方法 "
   ]
  },
  {
   "cell_type": "code",
   "execution_count": 238,
   "id": "447afe87",
   "metadata": {},
   "outputs": [],
   "source": [
    "class PayRbill(Bill):  #定义子类PayRbill  Bill是基类\n",
    "    \"\"\"付款申请单\"\"\"\n",
    "        \n",
    "    def __init__(self,\n",
    "                 matcode='',\n",
    "                 matsubcode = '',\n",
    "                 matitems='',\n",
    "                 matprice='',\n",
    "                 matunit='',\n",
    "                 matquantity='',\n",
    "                 PayRapplicant='',\n",
    "                 PayRmoney = '',\n",
    "                 PayRway='',\n",
    "                 PayRee='',\n",
    "                 PayReebank='',\n",
    "                 PayReeaccount=''):\n",
    "        \"\"\"基础科目主文件设置\"\"\"\n",
    "\n",
    "        super().__init__(matcode,matsubcode,matitems,matprice,matunit,matquantity)\n",
    "        self.PayRapplicant = PayRapplicant\n",
    "        self.PayRmoney = PayRmoney\n",
    "        self.PayRway = PayRway\n",
    "        self.PayRee = PayRee\n",
    "        self.PayReebank = PayReebank\n",
    "        self.PayReeaccount = PayReeaccount\n",
    "    \n",
    "    def PayRbuild(self):\n",
    "\n",
    "        self.PayRapplicant = input(\"请输入申请人所属部门：\")\n",
    "        self.PayRmoney = input(\"请输入申请付款金额：\")\n",
    "        self.PayRway = input(\"请输入付款方式：\")\n",
    "        self.PayRee = input(\"请输入收款单位：\")\n",
    "        self.PayReebank = input(\"请输入收款银行：\")\n",
    "        self.PayReeaccount = input(\"请输入收款账号：\")\n",
    "        \"\"\"静态方法，把会计科目类属性字典，写入Excel文件\"\"\" \n",
    "       \n",
    "        self.exportAllBill2Excel(self.__dict__,\"PayRbill\")  #①调用父类的静态方法"
   ]
  },
  {
   "cell_type": "code",
   "execution_count": 240,
   "id": "7812ad97",
   "metadata": {},
   "outputs": [],
   "source": [
    "class APAbill(Bill):  #定义子类PayRbill  Bill是基类\n",
    "    \"\"\"预付款申请单\"\"\"\n",
    "        \n",
    "    def __init__(self,\n",
    "                 matcode='',\n",
    "                 matsubcode = '',\n",
    "                 matitems='',\n",
    "                 matprice='',\n",
    "                 matunit='',\n",
    "                 matquantity='',\n",
    "                 APAapplicant='',\n",
    "                 APAmoney = '',\n",
    "                 APAway='',\n",
    "                 APAee='',\n",
    "                 APAeebank='',\n",
    "                 APAeeaccount=''):\n",
    "        \"\"\"基础科目主文件设置\"\"\"\n",
    "\n",
    "        super().__init__(matcode,matsubcode,matitems,matprice,matunit,matquantity)\n",
    "        self.APAapplicant = APAapplicant\n",
    "        self.APAmoney = APAmoney\n",
    "        self.APAway = APAway\n",
    "        self.APAee = APAee\n",
    "        self.APAeebank = APAeebank\n",
    "        self.APAeeaccount = APAeeaccount\n",
    "    \n",
    "    def APAbuild(self):\n",
    "\n",
    "        self.APAapplicant = input(\"请输入申请人所属部门：\")\n",
    "        self.APAmoney = input(\"请输入申请预付款金额：\")\n",
    "        self.APAway = input(\"请输入预付款方式：\")\n",
    "        self.APAee = input(\"请输入收款单位：\")\n",
    "        self.APAeebank = input(\"请输入收款银行：\")\n",
    "        self.APAeeaccount = input(\"请输入收款账号：\")\n",
    "        \"\"\"静态方法，把会计科目类属性字典，写入Excel文件\"\"\" \n",
    "        \n",
    "        self.exportAllBill2Excel(self.__dict__,\"APAbill\")  #①调用父类的静态方法"
   ]
  },
  {
   "cell_type": "code",
   "execution_count": null,
   "id": "ccf6e289",
   "metadata": {},
   "outputs": [],
   "source": [
    "def getaccount(account_):  # 传入的科目编码\n",
    "    \"\"\"得到输入明细科目编码对应的 【科目名称】--- 含科目是否明细检验\"\"\"\n",
    "\n",
    "    import pandas as pd\n",
    "    account_s = pd.read_excel(r'D:\\努力奋斗的小彬彬！\\2022.9研究生第一学期\\财务与会计AI&机器学习应用专题\\期末考试内容合集\\科目表.xlsx',index_col=0)\n",
    "\n",
    "\n",
    "\n",
    "    account_ = input(\"请输入正确的科目编码：\")\n",
    "    if account_[0].isdigit():\n",
    "        # 输入的是科目编码\n",
    "        dt_account = account_s.loc[account_s.index==account_]\n",
    "\n",
    "        if not dt_account['name'][0]:\n",
    "            print(\"没有找到该会计科目！\")\n",
    "            return 0\n",
    "        else:\n",
    "            if not dt_account['detailed'][0]:\n",
    "                print(\"请输入明细科目\")\n",
    "                return 0\n",
    "            else:\n",
    "                return dt_account['name'][0]"
   ]
  },
  {
   "cell_type": "code",
   "execution_count": null,
   "id": "07a02e85",
   "metadata": {},
   "outputs": [],
   "source": [
    "def input_rec():\n",
    "    \"\"\"输入会计记账凭证，确认或存储\"\"\"\n",
    "    \n",
    "    rec_master = {}   # 记账凭证主记录\n",
    "    rec_details = []   # 记账凭证详细分录\n",
    "    \n",
    "    import time\n",
    "\n",
    "    print(\"当前日期：\",time.strftime(\"%Y-%m-%d\", time.localtime()))\n",
    "    #当前日期作为凭证日期，月份为会计期间\n",
    "    rec_master[\"date\"]=time.strftime(\"%Y-%m-%d\", time.localtime())\n",
    "    print(\"当前会计期间：\",time.strftime(\"%m\", time.localtime()))\n",
    "    rec_master[\"period\"]=time.strftime(\"%m\", time.localtime())\n",
    "    \n",
    "    rec_master[\"sn\"] = input(\"请输入记账凭证编号：\")\n",
    "     \n",
    "    \n",
    "    \n",
    "    rec_detail = []   # 凭证分录列标\n",
    "    \n",
    "    i=1       #分录计数器\n",
    "    \n",
    "    \n",
    "    #分录数量 计数器\n",
    "    rec_master[\"item_n\"] = 1   # 该凭证的分录数量\n",
    "    \n",
    "    flag =\"y\"          # 分录是否输入完成\n",
    "    rec_detail = {}    #  每个分录\n",
    "    while flag == \"y\" or flag == \"Y\":\n",
    "    \n",
    "               \n",
    "        rec_detail[\"sn\"] = rec_master[\"sn\"]   # 分录的记账凭证编码\n",
    "        \n",
    "        rec_detail[\"item\"] = str(rec_master[\"item_n\"])   # 分录序号\n",
    "\n",
    "        print(f'请输入第{rec_master[\"item_n\"]}条分录')\n",
    "        \n",
    "        rec_detail[\"describe\"] = input(\"摘要：\") .strip(' ')    # 输入对应分录的摘要\n",
    "     \n",
    "        while True:\n",
    "            rec_detail[\"code\"] = input(\"科目编码：\") .strip(' ')\n",
    "            account_name = getaccount(rec_detail[\"code\"])              #得到科目名称，和是否为明细可枚举\n",
    "            if account_name == 0:\n",
    "                print(\"不符合要求，请重新输入\")\n",
    "                \n",
    "            else:\n",
    "                print(f\"您输入的科目名称为：{account_name}\")\n",
    "                \n",
    "                break\n",
    "        \n",
    "        \n",
    "        rec_detail[\"DrCr\"] = input(\"记账方向 [借/贷]：\") .strip(' ')\n",
    "        \n",
    "        while True:\n",
    "            rec_detail[\"amount\"] = input(\"金额：\")\n",
    "            if rec_detail[\"amount\"].isdigit():\n",
    "                rec_detail[\"amount\"] = round(float(rec_detail[\"amount\"]),2)\n",
    "                break\n",
    "            else:\n",
    "                print(\"请输入正确的数据！\")\n",
    "\n",
    "        #  把凭证分录加到凭证列标中\n",
    "        rec_details.append(rec_detail) \n",
    "        \n",
    "        flag = input(\"需要增加分录y/n\") \n",
    "        \n",
    "        if flag == \"y\" or flag == \"Y\":\n",
    "            rec_master[\"item_n\"] += 1 # 该记账凭证的分录数\n",
    "            \n",
    "            # 清空字典\n",
    "            rec_detail = {}\n",
    "        else:\n",
    "            pass\n",
    "    \n",
    "    return rec_master,rec_details   #前者是字典，后者是包含分录字典的列标\n",
    "\n"
   ]
  },
  {
   "cell_type": "markdown",
   "id": "70cdffce",
   "metadata": {},
   "source": [
    "#### 随机生成业务编码"
   ]
  },
  {
   "cell_type": "code",
   "execution_count": 196,
   "id": "28519def",
   "metadata": {},
   "outputs": [],
   "source": [
    "CG=\"P01\""
   ]
  },
  {
   "cell_type": "code",
   "execution_count": 197,
   "id": "b6dc6ccd",
   "metadata": {},
   "outputs": [],
   "source": [
    "business=str(random.randint(100,999))"
   ]
  },
  {
   "cell_type": "code",
   "execution_count": 198,
   "id": "a852116e",
   "metadata": {},
   "outputs": [
    {
     "name": "stdout",
     "output_type": "stream",
     "text": [
      "P01695\n"
     ]
    }
   ],
   "source": [
    "print(CG+business)   #业务发生器随机生成业务编码"
   ]
  },
  {
   "cell_type": "markdown",
   "id": "f26ac118",
   "metadata": {},
   "source": [
    "#### 发出请购需求"
   ]
  },
  {
   "cell_type": "code",
   "execution_count": 199,
   "id": "e20b8678",
   "metadata": {},
   "outputs": [],
   "source": [
    "def increase():         #定义一个还有自然数算法的生成器,企图使用next来完成不断调用的递增\n",
    "    n = 0\n",
    "    while True:         #发生一项经济业务\n",
    "        n = n+1\n",
    "        yield n\n",
    "it = increase()         #将生成器转给一个(生成器)对象\n",
    "\n",
    "def counter():          #再定义一内函数\n",
    "    return next(it)     #调用生成器的值,每次调用均自增1\n",
    "                        #注意：it不要加()括号调用会出错\n",
    "    return counter"
   ]
  },
  {
   "cell_type": "code",
   "execution_count": 200,
   "id": "9a6d896b",
   "metadata": {},
   "outputs": [
    {
     "name": "stdout",
     "output_type": "stream",
     "text": [
      "请输入一位数字部门代码：1\n"
     ]
    }
   ],
   "source": [
    "department = int(input(\"请输入一位数字部门代码：\"))#例：仓储部门为1，生产部门为2..."
   ]
  },
  {
   "cell_type": "code",
   "execution_count": 201,
   "id": "2f81d144",
   "metadata": {},
   "outputs": [],
   "source": [
    "demand=Bill()"
   ]
  },
  {
   "cell_type": "code",
   "execution_count": 202,
   "id": "5f40346d",
   "metadata": {},
   "outputs": [
    {
     "name": "stdout",
     "output_type": "stream",
     "text": [
      "请输入原材料编码：DX\n",
      "请输入详细编码：DX1\n",
      "请输入原材料品质：四氯乙烯线\n",
      "请输入原材料价格：1.5\n",
      "请输入原材料单位：元/米\n",
      "请输入原材料订购数量:300\n"
     ]
    }
   ],
   "source": [
    "demand.build()"
   ]
  },
  {
   "cell_type": "code",
   "execution_count": 203,
   "id": "53729d9b",
   "metadata": {},
   "outputs": [],
   "source": [
    "money=demand.matprice * demand.matquantity"
   ]
  },
  {
   "cell_type": "code",
   "execution_count": 204,
   "id": "0ba9e638",
   "metadata": {},
   "outputs": [
    {
     "data": {
      "text/plain": [
       "450.0"
      ]
     },
     "execution_count": 204,
     "metadata": {},
     "output_type": "execute_result"
    }
   ],
   "source": [
    "money"
   ]
  },
  {
   "cell_type": "code",
   "execution_count": 205,
   "id": "96fe47ae",
   "metadata": {},
   "outputs": [],
   "source": [
    "if demand.matprice * int(demand.matquantity)<Iabd:\n",
    "    validcounter=counter()\n",
    "else:\n",
    "    print(\"审核未通过！\")"
   ]
  },
  {
   "cell_type": "code",
   "execution_count": 206,
   "id": "210e9420",
   "metadata": {},
   "outputs": [],
   "source": [
    "#请购单编码\n",
    "purchaserequisition = \"PC\"+str(department)+str(validcounter).rjust(2,'0')"
   ]
  },
  {
   "cell_type": "code",
   "execution_count": 207,
   "id": "e1be73c4",
   "metadata": {},
   "outputs": [
    {
     "name": "stdout",
     "output_type": "stream",
     "text": [
      "PC101\n"
     ]
    }
   ],
   "source": [
    "print(purchaserequisition)  ##生成请购单编码"
   ]
  },
  {
   "cell_type": "code",
   "execution_count": 241,
   "id": "d5c12528",
   "metadata": {},
   "outputs": [],
   "source": [
    "purchaserequisition=PRbill()"
   ]
  },
  {
   "cell_type": "code",
   "execution_count": 243,
   "id": "8473617e",
   "metadata": {},
   "outputs": [
    {
     "name": "stdout",
     "output_type": "stream",
     "text": [
      "请输入原材料编码：DX\n",
      "请输入详细编码：DX1\n",
      "请输入原材料品质：四氯乙烯线\n",
      "请输入原材料价格：1.5\n",
      "请输入原材料单位：元/米\n",
      "请输入原材料订购数量:200\n",
      "请输入材料需求部门制单时间：2022-11-25\n",
      "请输入材料需求部门要求到货时限：2022-11-30\n",
      "请输入备注信息：仓储部\n"
     ]
    }
   ],
   "source": [
    "purchaserequisition.build() \n",
    "purchaserequisition.PRbuild()   ##生成请购单"
   ]
  },
  {
   "cell_type": "code",
   "execution_count": null,
   "id": "86189001",
   "metadata": {},
   "outputs": [],
   "source": []
  },
  {
   "cell_type": "code",
   "execution_count": 118,
   "id": "ce2af41c",
   "metadata": {},
   "outputs": [],
   "source": [
    "#订购单编码\n",
    "purchaseorder = \"CAP\"+str(department)+str(validcounter).rjust(2,'0')"
   ]
  },
  {
   "cell_type": "code",
   "execution_count": 119,
   "id": "229a7ea4",
   "metadata": {},
   "outputs": [
    {
     "name": "stdout",
     "output_type": "stream",
     "text": [
      "CAP101\n"
     ]
    }
   ],
   "source": [
    "print(purchaseorder)    ##生成订购单"
   ]
  },
  {
   "cell_type": "code",
   "execution_count": 244,
   "id": "89e1273b",
   "metadata": {},
   "outputs": [],
   "source": [
    "purchaseorder=PObill()"
   ]
  },
  {
   "cell_type": "code",
   "execution_count": 245,
   "id": "d652300f",
   "metadata": {},
   "outputs": [
    {
     "name": "stdout",
     "output_type": "stream",
     "text": [
      "请输入原材料编码：DX\n",
      "请输入详细编码：DX1\n",
      "请输入原材料品质：四氯乙烯线\n",
      "请输入原材料价格：1.5\n",
      "请输入原材料单位：元/米\n",
      "请输入原材料订购数量:200\n",
      "请输入供应商名称：供应商1\n",
      "请输入供应商地址：地址1\n",
      "请输入供应商电话：12345\n",
      "请输入供应商联系人：张\n",
      "请输入交货日期：2022-11-30\n"
     ]
    }
   ],
   "source": [
    "purchaseorder.build()\n",
    "purchaseorder.PObuild()"
   ]
  },
  {
   "cell_type": "code",
   "execution_count": null,
   "id": "ad775cda",
   "metadata": {},
   "outputs": [],
   "source": []
  },
  {
   "cell_type": "code",
   "execution_count": null,
   "id": "029fd12d",
   "metadata": {},
   "outputs": [],
   "source": [
    "#是否预付\n",
    "choice = input(\"是否预付？\")  #请输入“是”或“否”\n",
    "\n",
    "if choice == \"是\":\n",
    "    Advpaymentrequisition = \"YFK\"+ str(department)+str(validcounter).rjust(2,'0')\n",
    "    print(Advpaymentrequisition)#采购部门按照采购合同填写预付款申请单\n",
    "    Advpaymentrequisition=APAbill()\n",
    "    Advpaymentrequisition.build()\n",
    "    Advpaymentrequisition.APAbuild()\n",
    "    YFinancialapproval=input(\"财务部门审核是否通过：\") #请输入“是”或“否”\n",
    "    \n",
    "    if YFinancialapproval == \"是\":\n",
    "        rec_master,rec_details = input_rec()  #财务部门编制付款凭证\n",
    "        YCEOapproval=input(\"总经理审批是否通过：\") #请输入“是”或“否”\n",
    "        \n",
    "        if YCEOapproval==\"是\":\n",
    "            Iabd=Iabd-money  #付款\n",
    "            print(\"银行存款的余额为\"+str(Iabd))\n",
    "        elif YCEOapproval==\"否\":\n",
    "            print(\"请重新填写付款申请进行审批\")\n",
    "        else:\n",
    "            print(\"请按规定输入\")\n",
    "            \n",
    "    elif YFinancialapproval == \"否\":\n",
    "        print(\"请重新填写预付款申请\")\n",
    "    else:\n",
    "        print(\"请按规定输入\") \n",
    "    Yarrive = input(\"发票和货物是否同时到达：\") #请输入单货同到、单到货未到、货到单未到\n",
    "    if Yarrive == \"单货同到\":\n",
    "        '''采购业务员收到送货单，并为送货单编码'''\n",
    "        deliverynote = \"NO\" +str(datetime.date.today())+str(department)+str(validcounter).rjust(2,'0')\n",
    "        print(deliverynote)\n",
    "        deliverynote= DNbill()\n",
    "        deliverynote.build()\n",
    "        deliverynote.DNbuild()\n",
    "        \n",
    "        '''采购业务员收到发票，确认对方所送货物、数量、价格等信息，以《到货单》的形式传递到仓库作为依据'''\n",
    "        purchaseinvoice = \"130522233205\"+ str(department)+str(validcounter).rjust(2,'0')\n",
    "        print(purchaseinvoice)\n",
    "        #普通发票分类代码编制规则\n",
    "        #普通发票分类代码为 12 位阿拉伯数字。从左至右排列：\n",
    "        #第1位为国家税务局、地方税务局代码，1为国家税务局、2为地方税务局,0为总局。\n",
    "        #第2、3、4、5位为地区代码(地、市级)，以全国行政区域统一代码为准，总局为 0000。\n",
    "        #第6、7位为年份代码(例如 2004年以 04 表示)。\n",
    "        #第8位为统一的行业代码    其中，国税行业划分;1工业、2商业、 3加工修理修配业、4收购业、5水电业、6其他：\n",
    "        #地税行业划分：1交通运钩业，2 建筑业、3 金融保险业、4 邮电通信业、5文化体育业、6娱乐业、7服务业、8转让无形资产、9 销售不动产、0表示其他。\n",
    "        #第9、10，11、 12 位为细化的发票种类代码，按照保证每份发票编码唯一的原则,由省、自治区、直辖市和计划单列市用家税务局、地方税务局自行编制。\n",
    "        purchaseinvoice = PIbill()\n",
    "        purchaseinvoice.build()\n",
    "        purchaseinvoice.PIbuild()\n",
    "        \n",
    "            \n",
    "        #仓库管理员比较商品与订购单是否相符\n",
    "        Ycompare = input(\"收到的货物与订购单是否相符：\") #请输入“是”或“否”\n",
    "        if Ycompare == \"是\":\n",
    "            #收货送检，品管部检测合格后入库\n",
    "            #入库单编码\n",
    "            acceptancereceipt = \"IQ2211\"+str(department)+str(validcounter).rjust(2,'0')\n",
    "            print(acceptancereceipt)\n",
    "            acceptancereceipt=ARbill()\n",
    "            acceptancereceipt.build()\n",
    "            acceptancereceipt.ARbuild()\n",
    "            #送货单（外来）、验收入库单（来源：仓库）、发票（外来）交送至财务部门根据差额编制付款凭证。\n",
    "            #根据发票计算差额，生成差额付款凭证\n",
    "            Ydifference = purchaseinvoice.PImoney - money \n",
    "            rec_master,rec_details = input_rec() \n",
    "            '''财务部门审核报销付款凭证、总经理审批报销发票后财务部付款'''\n",
    "            YCEOapproval2=input(\"总经理审批是否通过：\") #请输入“是”或“否”        \n",
    "            if YCEOapproval==\"是\":\n",
    "                Iabd=Iabd-Ydifference \n",
    "                print(\"银行存款的余额为\"+str(Iabd))\n",
    "            elif YCEOapproval==\"否\":\n",
    "                print(\"请重新填写付款申请进行审批\")\n",
    "            else:\n",
    "                print(\"请按规定输入\")\n",
    "            \n",
    "        elif Ycompare == \"否\":\n",
    "            print(\"货物与订购单有不符现象，请与供应商沟通\")\n",
    "        else:\n",
    "            print(\"请按规定输入\")\n",
    "    \n",
    "    elif Yarrive == \"单到货未到\":\n",
    "        '''采购业务员收到发票，做压单处理'''\n",
    "        purchaseinvoice = \"130522233205\"+ str(department)+str(validcounter).rjust(2,'0')\n",
    "        print(purchaseinvoice)\n",
    "        purchaseinvoice = PIbill()\n",
    "        purchaseinvoice.build()\n",
    "        purchaseinvoice.PIbuild()\n",
    "        '''到货后，采购业务员收到送货单，并为送货单编码'''\n",
    "        deliverynote = \"NO\" +str(datetime.date.today())+str(department)+str(validcounter).rjust(2,'0')\n",
    "        print(deliverynote)\n",
    "        deliverynote= DNbill()\n",
    "        deliverynote.build()\n",
    "        deliverynote.DNbuild()\n",
    "        #仓库管理员比较商品与订购单是否相符\n",
    "        Ycompare = input(\"收到的货物与订购单是否相符：\") #请输入“是”或“否”\n",
    "        if Ycompare == \"是\":\n",
    "            #收货送检，品管部检测合格后入库\n",
    "            #入库单编码\n",
    "            acceptancereceipt = \"IQ2211\"+str(department)+str(validcounter).rjust(2,'0')\n",
    "            print(acceptancereceipt)\n",
    "            acceptancereceipt=ARbill()\n",
    "            acceptancereceipt.build()\n",
    "            acceptancereceipt.ARbuild()\n",
    "            #送货单（外来）、验收入库单（来源：仓库）、发票（外来）交送至财务部门根据差额编制付款凭证。\n",
    "            #根据发票计算差额\n",
    "            #根据发票计算差额，生成差额付款凭证\n",
    "            Ydifference = deliverynote.PImoney - money \n",
    "            rec_master,rec_details = input_rec() \n",
    "            '''财务部门审核报销付款凭证、总经理审批报销发票后财务部付款'''\n",
    "            YCEOapproval2=input(\"总经理审批是否通过：\") #请输入“是”或“否”        \n",
    "            if YCEOapproval==\"是\":\n",
    "                Iabd=Iabd-Ydifference \n",
    "                print(\"银行存款的余额为\"+str(Iabd))\n",
    "            elif YCEOapproval==\"否\":\n",
    "                print(\"请重新填写付款申请进行审批\")\n",
    "            else:\n",
    "                print(\"请按规定输入\") \n",
    "            \n",
    "        elif Ycompare == \"否\":\n",
    "            print(\"货物与订购单有不符现象，请与供应商沟通\")\n",
    "        else:\n",
    "            print(\"请按规定输入\")\n",
    "    \n",
    "    \n",
    "    elif Yarrive == \"货到单未到\":\n",
    "        #仓库管理员比较商品与订购单是否相符\n",
    "        Ycompare = input(\"收到的货物与订购单是否相符：\") #请输入“是”或“否”\n",
    "        if Ycompare == \"是\":\n",
    "            #收货送检，品管部检测合格后入库\n",
    "            #入库单编码\n",
    "            acceptancereceipt = \"IQ2211\"+str(department)+str(validcounter).rjust(2,'0')\n",
    "            print(acceptancereceipt)\n",
    "            acceptancereceipt=ARbill()\n",
    "            acceptancereceipt.build()\n",
    "            acceptancereceipt.ARbuild()\n",
    "            #暂估入账金额\n",
    "            '''采购部门跟催发票。单到时对采购入库单和采购发票做采购结算，\n",
    "            此时系统根据采购发票信息查找到对应的单据记录，自动生成《入库调整单》，传递至财务部门处理。）'''\n",
    "            purchaseinvoice = \"130522233205\"+ str(department)+str(validcounter).rjust(2,'0')\n",
    "            print(purchaseinvoice)\n",
    "            purchaseinvoice = PIbill()\n",
    "            purchaseinvoice.build()\n",
    "            purchaseinvoice.PIbuild()\n",
    "            \n",
    "            Ydifference = float(input(\"请输入应调整的金额：\"))\n",
    "            #根据应调整的金额编制付款凭证\n",
    "            rec_master,rec_details = input_rec()\n",
    "            \n",
    "            '''财务部门审核报销付款凭证、总经理审批报销发票后财务部付款'''\n",
    "            Iabd=Iabd-Ydifference\n",
    "            \n",
    "        elif Ycompare == \"否\":\n",
    "            print(\"货物与订购单有不符现象，请与供应商沟通\")\n",
    "        else:\n",
    "            print(\"请按规定输入\")            \n",
    "    else:\n",
    "        print(\"请按规定输入\")\n",
    "    \n",
    "elif choice == \"否\":\n",
    "    pass\n",
    "    \n",
    "    \n",
    "    \n",
    "    \n",
    "else:\n",
    "    print(\"请按照规则再输入一次：\")"
   ]
  },
  {
   "cell_type": "code",
   "execution_count": null,
   "id": "be2c8a9a",
   "metadata": {},
   "outputs": [],
   "source": []
  },
  {
   "cell_type": "markdown",
   "id": "50a8e643",
   "metadata": {},
   "source": [
    "#### 其他单据编码 下面的内容都复制到循环语句里用了"
   ]
  },
  {
   "cell_type": "code",
   "execution_count": 43,
   "id": "91e5ec42",
   "metadata": {},
   "outputs": [
    {
     "name": "stdout",
     "output_type": "stream",
     "text": [
      "AU-CG-ZZ-CP101\n"
     ]
    }
   ],
   "source": [
    "#合同编码\n",
    "contract = \"AU-CG-ZZ-CP\"+ str(department)+str(validcounter).rjust(2,'0')\n",
    "print(contract)"
   ]
  },
  {
   "cell_type": "code",
   "execution_count": null,
   "id": "c9ea5761",
   "metadata": {},
   "outputs": [],
   "source": []
  },
  {
   "cell_type": "code",
   "execution_count": 67,
   "id": "a37f7b7c",
   "metadata": {},
   "outputs": [
    {
     "name": "stdout",
     "output_type": "stream",
     "text": [
      "NO2022-11-23101\n"
     ]
    }
   ],
   "source": [
    "#送货单编码\n",
    "deliverynote = \"NO\" +str(datetime.date.today())+str(department)+str(validcounter).rjust(2,'0')\n",
    "print(deliverynote)"
   ]
  },
  {
   "cell_type": "code",
   "execution_count": 246,
   "id": "38156d44",
   "metadata": {},
   "outputs": [],
   "source": [
    "deliverynote= DNbill()"
   ]
  },
  {
   "cell_type": "code",
   "execution_count": 247,
   "id": "9b3b34d7",
   "metadata": {},
   "outputs": [
    {
     "name": "stdout",
     "output_type": "stream",
     "text": [
      "请输入原材料编码：DX\n",
      "请输入详细编码：DX1\n",
      "请输入原材料品质：四氯乙烯线\n",
      "请输入原材料价格：1.5\n",
      "请输入原材料单位：元/米\n",
      "请输入原材料订购数量:200\n",
      "请输入客户名称：客户商1\n",
      "请输入送货单号：1234\n",
      "请输入送货日期：2022-11-30\n",
      "请输入送货金额：300\n",
      "请输入送货人姓名：刘\n",
      "请输入签收人姓名：王\n"
     ]
    }
   ],
   "source": [
    "deliverynote.build()\n",
    "deliverynote.DNbuild()    ##生成送货单"
   ]
  },
  {
   "cell_type": "code",
   "execution_count": null,
   "id": "6d662610",
   "metadata": {},
   "outputs": [],
   "source": []
  },
  {
   "cell_type": "code",
   "execution_count": 52,
   "id": "26b868c7",
   "metadata": {},
   "outputs": [
    {
     "name": "stdout",
     "output_type": "stream",
     "text": [
      "130522233205101\n"
     ]
    }
   ],
   "source": [
    "#采购发票编码\n",
    "purchaseinvoice = \"130522233205\"+ str(department)+str(validcounter).rjust(2,'0')\n",
    "print(purchaseinvoice)\n",
    "#普通发票分类代码编制规则\n",
    "#普通发票分类代码为 12 位阿拉伯数字。从左至右排列：\n",
    "#第1位为国家税务局、地方税务局代码，1为国家税务局、2为地方税务局,0为总局。\n",
    "#第2、3、4、5位为地区代码(地、市级)，以全国行政区域统一代码为准，总局为 0000。\n",
    "#第6、7位为年份代码(例如 2004年以 04 表示)。\n",
    "#第8位为统一的行业代码    其中，国税行业划分;1工业、2商业、 3加工修理修配业、4收购业、5水电业、6其他：\n",
    "#地税行业划分：1交通运钩业，2 建筑业、3 金融保险业、4 邮电通信业、5文化体育业、6娱乐业、7服务业、8转让无形资产、9 销售不动产、0表示其他。\n",
    "#第9、10，11、 12 位为细化的发票种类代码，按照保证每份发票编码唯一的原则,由省、自治区、直辖市和计划单列市用家税务局、地方税务局自行编制。"
   ]
  },
  {
   "cell_type": "code",
   "execution_count": 249,
   "id": "3a457567",
   "metadata": {},
   "outputs": [],
   "source": [
    "purchaseinvoice = PIbill()"
   ]
  },
  {
   "cell_type": "code",
   "execution_count": 250,
   "id": "b2e7b7d7",
   "metadata": {},
   "outputs": [
    {
     "name": "stdout",
     "output_type": "stream",
     "text": [
      "请输入原材料编码：DX\n",
      "请输入详细编码：DX1\n",
      "请输入原材料品质：四氯乙烯线\n",
      "请输入原材料价格：1.5\n",
      "请输入原材料单位：元/米\n",
      "请输入原材料订购数量:200\n",
      "请输入业务摘要：业务摘要\n",
      "请输入服务名称：采购\n",
      "请输入金额：300\n",
      "请输入税率：13%\n",
      "请输入税额：39\n"
     ]
    }
   ],
   "source": [
    "purchaseinvoice.build()\n",
    "purchaseinvoice.PIbuild()"
   ]
  },
  {
   "cell_type": "code",
   "execution_count": null,
   "id": "2a1f8b3c",
   "metadata": {},
   "outputs": [],
   "source": []
  },
  {
   "cell_type": "code",
   "execution_count": 53,
   "id": "62fe0535",
   "metadata": {},
   "outputs": [
    {
     "name": "stdout",
     "output_type": "stream",
     "text": [
      "IQ2211101\n"
     ]
    }
   ],
   "source": [
    "#入库单编码\n",
    "acceptancereceipt = \"IQ2211\"+str(department)+str(validcounter).rjust(2,'0')\n",
    "print(acceptancereceipt)"
   ]
  },
  {
   "cell_type": "code",
   "execution_count": 251,
   "id": "e616cb58",
   "metadata": {},
   "outputs": [],
   "source": [
    "acceptancereceipt=ARbill()"
   ]
  },
  {
   "cell_type": "code",
   "execution_count": 252,
   "id": "6820b8c9",
   "metadata": {},
   "outputs": [
    {
     "name": "stdout",
     "output_type": "stream",
     "text": [
      "请输入原材料编码：DX\n",
      "请输入详细编码：DX1\n",
      "请输入原材料品质：四氯乙烯线\n",
      "请输入原材料价格：1.5\n",
      "请输入原材料单位：元/米\n",
      "请输入原材料订购数量:200\n",
      "请输入实收数量：200\n",
      "请输入实际价格：2\n"
     ]
    }
   ],
   "source": [
    "acceptancereceipt.build()\n",
    "acceptancereceipt.ARbuild()"
   ]
  },
  {
   "cell_type": "code",
   "execution_count": null,
   "id": "d88b51b5",
   "metadata": {},
   "outputs": [],
   "source": []
  },
  {
   "cell_type": "code",
   "execution_count": 54,
   "id": "9a5bcfe1",
   "metadata": {},
   "outputs": [
    {
     "name": "stdout",
     "output_type": "stream",
     "text": [
      "FK101\n"
     ]
    }
   ],
   "source": [
    "#付款申请单\n",
    "paymentrequisition = \"FK\"+ str(department)+str(validcounter).rjust(2,'0')\n",
    "print(paymentrequisition)"
   ]
  },
  {
   "cell_type": "code",
   "execution_count": 253,
   "id": "ea443a6f",
   "metadata": {},
   "outputs": [],
   "source": [
    "paymentrequisition=PayRbill()"
   ]
  },
  {
   "cell_type": "code",
   "execution_count": 254,
   "id": "9dbc2b02",
   "metadata": {},
   "outputs": [
    {
     "name": "stdout",
     "output_type": "stream",
     "text": [
      "请输入原材料编码：DX\n",
      "请输入详细编码：DX1\n",
      "请输入原材料品质：四氯乙烯线\n",
      "请输入原材料价格：1.5\n",
      "请输入原材料单位：元/米\n",
      "请输入原材料订购数量:200\n",
      "请输入申请人所属部门：仓储部\n",
      "请输入申请付款金额：400\n",
      "请输入付款方式：ICBC\n",
      "请输入收款单位：供货商1\n",
      "请输入收款银行：ICBC\n",
      "请输入收款账号：12345\n"
     ]
    }
   ],
   "source": [
    "paymentrequisition.build()\n",
    "paymentrequisition.PayRbuild()"
   ]
  },
  {
   "cell_type": "code",
   "execution_count": null,
   "id": "47ede4cd",
   "metadata": {},
   "outputs": [],
   "source": []
  },
  {
   "cell_type": "code",
   "execution_count": 55,
   "id": "51621698",
   "metadata": {},
   "outputs": [
    {
     "name": "stdout",
     "output_type": "stream",
     "text": [
      "YFK101\n"
     ]
    }
   ],
   "source": [
    "#预付款申请单编码\n",
    "Advpaymentrequisition = \"YFK\"+ str(department)+str(validcounter).rjust(2,'0')\n",
    "print(Advpaymentrequisition)"
   ]
  },
  {
   "cell_type": "code",
   "execution_count": 255,
   "id": "dc544f73",
   "metadata": {},
   "outputs": [],
   "source": [
    "Advpaymentrequisition=APAbill()"
   ]
  },
  {
   "cell_type": "code",
   "execution_count": 256,
   "id": "ab8763b1",
   "metadata": {},
   "outputs": [
    {
     "name": "stdout",
     "output_type": "stream",
     "text": [
      "请输入原材料编码：DX\n",
      "请输入详细编码：DX1\n",
      "请输入原材料品质：四氯乙烯线\n",
      "请输入原材料价格：1.5\n",
      "请输入原材料单位：元/米\n",
      "请输入原材料订购数量:200\n",
      "请输入申请人所属部门：仓储部\n",
      "请输入申请预付款金额：300\n",
      "请输入预付款方式：银行存款\n",
      "请输入收款单位：供货商1\n",
      "请输入收款银行：ICBC\n",
      "请输入收款账号：12345\n"
     ]
    }
   ],
   "source": [
    "Advpaymentrequisition.build()\n",
    "Advpaymentrequisition.APAbuild()"
   ]
  },
  {
   "cell_type": "code",
   "execution_count": null,
   "id": "1d7c3290",
   "metadata": {},
   "outputs": [],
   "source": []
  }
 ],
 "metadata": {
  "kernelspec": {
   "display_name": "Python 3.10.2 64-bit",
   "language": "python",
   "name": "python3"
  },
  "language_info": {
   "codemirror_mode": {
    "name": "ipython",
    "version": 3
   },
   "file_extension": ".py",
   "mimetype": "text/x-python",
   "name": "python",
   "nbconvert_exporter": "python",
   "pygments_lexer": "ipython3",
   "version": "3.10.2"
  },
  "vscode": {
   "interpreter": {
    "hash": "71ac5e1ec7e392a7c7800908c8253e43bdf0b5fe10740046a6a47958e9c371ea"
   }
  }
 },
 "nbformat": 4,
 "nbformat_minor": 5
}
